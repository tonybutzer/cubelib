{
 "cells": [
  {
   "cell_type": "code",
   "execution_count": 1,
   "id": "795816ac",
   "metadata": {},
   "outputs": [],
   "source": [
    "! aws s3 ls --request-payer requester s3://usgs-landsat/collection02/oli-tirs/2020/CU/029/003/LC08_CU_029003_20200419_20210504_02/LC08_CU_029003_20200419_20210504_02_SR_B2.TIF"
   ]
  },
  {
   "cell_type": "code",
   "execution_count": 3,
   "id": "e032ae2c",
   "metadata": {},
   "outputs": [
    {
     "name": "stdout",
     "output_type": "stream",
     "text": [
      "2021-07-07 15:51:58   99346190 LC08_L2SP_044032_20201231_20210308_02_T1_SR_B4.TIF\r\n"
     ]
    }
   ],
   "source": [
    "! aws s3 ls --request-payer requester   s3://usgs-landsat/collection02/level-2/standard/oli-tirs/2020/044/032/LC08_L2SP_044032_20201231_20210308_02_T1/LC08_L2SP_044032_20201231_20210308_02_T1_SR_B4.TIF"
   ]
  },
  {
   "cell_type": "code",
   "execution_count": null,
   "id": "f0577304",
   "metadata": {},
   "outputs": [],
   "source": []
  }
 ],
 "metadata": {
  "kernelspec": {
   "display_name": "Python 3",
   "language": "python",
   "name": "python3"
  },
  "language_info": {
   "codemirror_mode": {
    "name": "ipython",
    "version": 3
   },
   "file_extension": ".py",
   "mimetype": "text/x-python",
   "name": "python",
   "nbconvert_exporter": "python",
   "pygments_lexer": "ipython3",
   "version": "3.7.10"
  }
 },
 "nbformat": 4,
 "nbformat_minor": 5
}
